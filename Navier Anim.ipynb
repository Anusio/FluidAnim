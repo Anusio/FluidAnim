{
 "cells": [
  {
   "cell_type": "markdown",
   "id": "32ba0707-7247-47f4-a7db-7159e1bddfff",
   "metadata": {},
   "source": [
    "# Navier-Stokes Animation\n",
    "\n",
    "Navier-stokes are partial differential equations that describe the motion of viscous fluid substances, their simplified equation is defined as:\n",
    "\n",
    "\\begin{equation}\n",
    "    \\label{eq:navierstrokes}\n",
    "    \\frac{\\partial u}{\\partial t} + u \\cdot \\nabla u = g - \\frac{1}{\\rho} \\nabla p + v \\nabla ^2 u\n",
    "\\end{equation}\n",
    "\n",
    "where:\n",
    "\n",
    "\n",
    "- $u$ is the velocity vector, \n",
    "- $g$ is the acceleration vector due to a body force, \n",
    "- $p$ is pressure, \n",
    "- $v$ = $\\frac{\\mu}{\\varrho}$ is the kinematic viscosity, \n",
    "- $\\mu$ is the dynamic viscosity, and \n",
    "- $\\rho$ is the density.\n"
   ]
  },
  {
   "cell_type": "markdown",
   "id": "d2ef533f-3c66-4f03-8753-79d906adcbb9",
   "metadata": {},
   "source": [
    "In this notebook we tried to do a simple 2D animation version using Python folowing:\n",
    "\n",
    "https://www.dgp.toronto.edu/public_user/stam/reality/Research/pdf/GDC03.pdf\n",
    "and \n",
    "https://thecodingtrain.com/challenges/132-fluid-simulation"
   ]
  },
  {
   "cell_type": "markdown",
   "id": "b01b31e0-c868-4bfe-99c1-7b3df564eff6",
   "metadata": {},
   "source": [
    "### Code\n",
    "\n",
    "imports"
   ]
  },
  {
   "cell_type": "code",
   "execution_count": 1,
   "id": "323259dc-b133-447a-826b-207efd583121",
   "metadata": {},
   "outputs": [
    {
     "name": "stdout",
     "output_type": "stream",
     "text": [
      "Python 3.8.15\n"
     ]
    }
   ],
   "source": [
    "!python --version"
   ]
  },
  {
   "cell_type": "code",
   "execution_count": 2,
   "id": "e1c76b3a-e71e-48d2-8ea8-9593069ae684",
   "metadata": {},
   "outputs": [
    {
     "name": "stdout",
     "output_type": "stream",
     "text": [
      "pygame 2.1.2 (SDL 2.0.18, Python 3.8.15)\n",
      "Hello from the pygame community. https://www.pygame.org/contribute.html\n"
     ]
    }
   ],
   "source": [
    "import pygame\n",
    "import pygame.draw as g\n",
    "import numpy as np\n",
    "import math\n",
    "import time"
   ]
  },
  {
   "cell_type": "markdown",
   "id": "4c039e3e-42ef-49e7-ade6-57ab8dc9fa92",
   "metadata": {},
   "source": [
    "constants to animate"
   ]
  },
  {
   "cell_type": "code",
   "execution_count": 3,
   "id": "bbc2890e-61e9-4c62-91d3-ea252396f7ae",
   "metadata": {},
   "outputs": [],
   "source": [
    "# Constants\n",
    "N = 64 # Matrix/field NxN\n",
    "itera = 16 # num of iterations to the linear solve"
   ]
  },
  {
   "cell_type": "code",
   "execution_count": 4,
   "id": "187864df-2260-4619-8675-b69c47e5d3b3",
   "metadata": {},
   "outputs": [],
   "source": [
    "# here if you want to make the fluid bounce in someting\n",
    "def set_bnd(b, x, N):\n",
    "\n",
    "    pass"
   ]
  },
  {
   "cell_type": "markdown",
   "id": "59f58bd0-82b6-47d2-981c-affdbaa5e143",
   "metadata": {},
   "source": [
    "#### Explanation  \n",
    "\n",
    "in order to make the code runs faster, python needs to avoid loops, hence we use numpy to doa similar calculation but more fast.\n",
    "\n",
    "So  this:\n",
    "```python\n",
    "for j in range(1, N-1):\n",
    "    for i in range(1, N-1):\n",
    "        x[i, j] = (x0[i, j] + a*(\n",
    "            x[i+1, j] + x[i-1, j] +\n",
    "            x[i, j+1] + x[i, j-1]\n",
    "        )) * cRecip\n",
    "```\n",
    "Became this:\n",
    "```python\n",
    "matsum = x[2:, 1:-1] + x[:-2, 1:-1] + x[1:-1, 2:] + x[1:-1, :-2]\n",
    "x[1:-1, 1:-1] = (x0[1:-1, 1:-1] + a*(matsum)) * cRecip\n",
    "```\n",
    "And this:\n",
    "```python\n",
    "for j in range(1, N - 1):\n",
    "    for i in range(1, N - 1):\n",
    "        velocX[i, j] -= 0.5 * (\n",
    "            p[i+1, j] - p[i-1, j]\n",
    "        )*N\n",
    "        velocY[i, j] -= 0.5 * (\n",
    "            p[i, j+1] - p[i, j-1]\n",
    "        )*N\n",
    "```\n",
    "Became this:\n",
    "\n",
    "```python\n",
    "r1 = p[2:, 1:-1] - p[:-2, 1:-1]\n",
    "r2 = p[1:-1, 2:] - p[1:-1, :-2]\n",
    "velocX[1:-1, 1:-1] -= 0.5 * r1 * N\n",
    "velocY[1:-1, 1:-1] -= 0.5 * r2 * N\n",
    "```"
   ]
  },
  {
   "cell_type": "markdown",
   "id": "c6c99a69-0f2a-4681-b847-4cc6e89f0dff",
   "metadata": {},
   "source": [
    "## Linear solve\n",
    "\n",
    "Iterative numerical method to solve part of the equation."
   ]
  },
  {
   "cell_type": "code",
   "execution_count": 5,
   "id": "1dd4b66f-080b-493b-98c4-3e2bc7c77430",
   "metadata": {},
   "outputs": [],
   "source": [
    "def lin_solve(b, x, x0, a, c):\n",
    "    cRecip = 1.0 / c\n",
    "    for t in range(itera):\n",
    "        matsum = x[2:, 1:-1] + x[:-2, 1:-1] + x[1:-1, 2:] + x[1:-1, :-2]\n",
    "        x[1:-1, 1:-1] = (x0[1:-1, 1:-1] + a*(matsum)) * cRecip\n",
    "        set_bnd(b, x, N)"
   ]
  },
  {
   "cell_type": "markdown",
   "id": "d22a756d-0217-4dda-9b08-1cf73a70c5ff",
   "metadata": {},
   "source": [
    "## Project \n",
    "\n",
    "Project the fluid acordly witn the vector field.\n",
    "This operation runs through all the cells and fixes them up so everything is in equilibrium"
   ]
  },
  {
   "cell_type": "code",
   "execution_count": 6,
   "id": "53a1a3e2-e707-418e-8501-52c55031626c",
   "metadata": {},
   "outputs": [],
   "source": [
    "def project(velocX, velocY, p, div):\n",
    "    for j in range(1, N - 1):\n",
    "        for i in range(1, N - 1):\n",
    "            div[i, j] = (-0.5 * (\n",
    "                velocX[i+1, j] - velocX[i-1, j] +\n",
    "                velocY[i, j+1] - velocY[i, j-1])\n",
    "            ) / N\n",
    "            p[i, j] = 0\n",
    "\n",
    "    set_bnd(0, div, N)\n",
    "    set_bnd(0, p, N)\n",
    "    lin_solve(0, p, div, 1, 6)\n",
    "\n",
    "    r1 = p[2:, 1:-1] - p[:-2, 1:-1]\n",
    "    r2 = p[1:-1, 2:] - p[1:-1, :-2]\n",
    "    velocX[1:-1, 1:-1] -= 0.5 * r1 * N\n",
    "    velocY[1:-1, 1:-1] -= 0.5 * r2 * N\n",
    "\n",
    "    set_bnd(1, velocX, N)\n",
    "    set_bnd(2, velocY, N)"
   ]
  },
  {
   "cell_type": "markdown",
   "id": "03e85e63-c267-4b2b-b2a0-cb2aef6ca006",
   "metadata": {},
   "source": [
    "# Advect\n",
    "\n",
    "Move the things around."
   ]
  },
  {
   "cell_type": "code",
   "execution_count": 7,
   "id": "e367eaea-514f-49e7-9fc1-ab2ddffe565e",
   "metadata": {},
   "outputs": [],
   "source": [
    "def advect(b, d, d0, velocX, velocY, dt):\n",
    "    dtx = dt * (N - 2)\n",
    "    dty = dt * (N - 2)\n",
    "\n",
    "    for j in range(1, N - 1):\n",
    "        for i in range(1, N - 1):\n",
    "            tmp1 = dtx * velocX[i, j]\n",
    "            tmp2 = dty * velocY[i, j]\n",
    "\n",
    "            x = float(i - tmp1)\n",
    "            y = float(j - tmp2)\n",
    "\n",
    "            if x < 0.5:\n",
    "                x = 0.5\n",
    "            if x > N - 1.5:\n",
    "                x = N - 1.5\n",
    "            i0 = math.floor(x)\n",
    "            i1 = i0 + 1.0\n",
    "\n",
    "            if y < 0.5:\n",
    "                y = 0.5\n",
    "            if y > N - 1.5:\n",
    "                y = N - 1.5\n",
    "            j0 = math.floor(y)\n",
    "            j1 = j0 + 1.0\n",
    "\n",
    "            s1 = x - i0\n",
    "            s0 = 1.0 - s1\n",
    "            t1 = y - j0\n",
    "            t0 = 1.0 - t1\n",
    "\n",
    "            i0i = int(i0)\n",
    "            i1i = int(i1)\n",
    "            j0i = int(j0)\n",
    "            j1i = int(j1)\n",
    "\n",
    "            d[i, j] = s0 * (t0 * d0[i0i, j0i]) + (t1 * d0[i0i, j1i])\\\n",
    "                    + s1 * (t0 * d0[i1i, j0i]) + (t1 * d0[i1i, j1i])\n",
    "\n",
    "    set_bnd(b, d, N)"
   ]
  },
  {
   "cell_type": "markdown",
   "id": "86755765-f4ad-48a5-a3b5-46dc79009275",
   "metadata": {},
   "source": [
    "$dt$ changes per iteration, in viscosity $v$ diff in $\\vec{x}$ based on $\\vec{x}_0$"
   ]
  },
  {
   "cell_type": "code",
   "execution_count": 8,
   "id": "0016b418-716f-43ea-8a53-7669b6a0271b",
   "metadata": {},
   "outputs": [],
   "source": [
    "# NavierStokes\n",
    "def diffuse(b, x, x0, diff, dt):\n",
    "    a = dt * diff * (N - 2) * (N - 2)\n",
    "    lin_solve(b, x, x0, a, 1 + 6 * a)\n"
   ]
  },
  {
   "cell_type": "markdown",
   "id": "ef5934a7-ac61-48b5-8bbd-04ce17c29707",
   "metadata": {},
   "source": [
    "Fluid class, all the variables needed to run the animation are here."
   ]
  },
  {
   "cell_type": "code",
   "execution_count": 11,
   "id": "a685a027-429e-4d7a-b170-416561288040",
   "metadata": {},
   "outputs": [],
   "source": [
    "class Fluid:\n",
    "\n",
    "    def __init__(self, dt, diffusion, viscosity, squire_dim=10):\n",
    "        self.squire_dim = squire_dim\n",
    "        self.size = N\n",
    "        self.dt = dt\n",
    "        self.diff = diffusion\n",
    "        self.visc = viscosity\n",
    "\n",
    "        # Density prev/atual corante que vai no fluido\n",
    "        self.s = np.zeros([N, N])\n",
    "        self.density = np.zeros([N, N])\n",
    "\n",
    "        # Velocity prev/atual\n",
    "        self.Vx = np.zeros([N, N])\n",
    "        self.Vy = np.zeros([N, N])\n",
    "\n",
    "        self.Vx0 = np.zeros([N, N])\n",
    "        self.Vy0 = np.zeros([N, N])\n",
    "\n",
    "    def addDensity(self, x, y, amount):\n",
    "        if 0 < x < N-1:\n",
    "            if 0 < y < N-1:\n",
    "                self.density[x, y] += amount\n",
    "                return\n",
    "        # print(x, y)\n",
    "\n",
    "    def addVelocity(self, x, y, amountX, amountY):\n",
    "        if 0 < x < N-1:\n",
    "            if 0 < y < N-1:\n",
    "                self.Vx[x, y] += amountX\n",
    "                self.Vy[x, y] += amountY\n",
    "                self.Vx0[x, y] += amountX\n",
    "                self.Vy0[x, y] += amountY\n",
    "                return\n",
    "\n",
    "    def fadeDensity(self):\n",
    "        self.density = np.clip(self.density - 0.02, 0, 255)\n",
    "\n",
    "    def draw(self, screen, _x=0, _y=0):\n",
    "        squire_dim = self.squire_dim\n",
    "        color_fill = [0, 0, 0]\n",
    "        for i in range(N):\n",
    "            for j in range(N):\n",
    "                d = self.density[i, j]/2\n",
    "                d = max(d, 0)\n",
    "                d = min(d, 255)\n",
    "                color_fill[0] = d\n",
    "                color_fill[1] = d\n",
    "                color_fill[2] = d\n",
    "                # print(self.density[i, j])\n",
    "                g.rect(\n",
    "                    screen,\n",
    "                    color_fill,\n",
    "                    [_x + i * squire_dim, _y + j * squire_dim,\n",
    "                     squire_dim, squire_dim])\n",
    "\n",
    "    def drawVel(self, screen, _x=0, _y=0):\n",
    "        squire_dim = self.squire_dim\n",
    "        color_fill = [255, 0, 0]\n",
    "        for i in range(N):\n",
    "            for j in range(N):\n",
    "                x1 = i * squire_dim\n",
    "                y1 = j * squire_dim\n",
    "                vx = self.Vx[i, j]\n",
    "                vy = self.Vy[i, j]\n",
    "                if not (abs(vx) < 0.1 and abs(vy) <= 0.1):\n",
    "                    g.line(screen, color_fill, [x1, y1], [x1 + vx*squire_dim, y1 + vy * squire_dim])\n",
    "\n",
    "    def update(self):\n",
    "        # diffuse the velocities based on time step and viscosity\n",
    "        start = time.time()\n",
    "        diffuse(1, self.Vx0, self.Vx, self.visc, self.dt)\n",
    "        diffuse(2, self.Vy0, self.Vy, self.visc, self.dt)\n",
    "        \n",
    "        project(self.Vx0, self.Vy0, self.Vx, self.Vy)\n",
    "        \n",
    "        advect(1, self.Vx, self.Vx0, self.Vx0, self.Vy0, self.dt)\n",
    "        advect(2, self.Vy, self.Vy0, self.Vx0, self.Vy0, self.dt)\n",
    "        \n",
    "        project(self.Vx, self.Vy, self.Vx0, self.Vy0)\n",
    "        \n",
    "        diffuse(0, self.s, self.density, self.diff, self.dt)\n",
    "        advect(0, self.density, self.s, self.Vx, self.Vy, self.dt)\n",
    "        end = time.time()\n",
    "        # print(\"Time/iteration\", end - start)\n"
   ]
  },
  {
   "cell_type": "markdown",
   "id": "6006c1c0-3c9a-4a07-ad41-c4111abbe948",
   "metadata": {},
   "source": [
    "Main code run\n",
    "\n",
    "comands:\n",
    " - A - start a new fluid with all fields 0\n",
    " - F - Stop to render the density\n",
    " - V - Stop to render the vectors\n",
    " - SPACE - Pause the animation"
   ]
  },
  {
   "cell_type": "code",
   "execution_count": 10,
   "id": "b9e426c9-7827-4aa7-842e-f9648a5ad44c",
   "metadata": {},
   "outputs": [],
   "source": [
    "# initialize the pygame module\n",
    "pygame.init()\n",
    "pygame.display.set_caption(\"Navier stokes Anim\")\n",
    "\n",
    "screen = pygame.display.set_mode(\n",
    "    (640, 640),\n",
    "    pygame.RESIZABLE)\n",
    "\n",
    "clock = pygame.time.Clock()\n",
    "#------------------------------------\n",
    "fluid = Fluid(0.25, 0.00025, 0.00025)\n",
    "# fluid = Fluid(0.2, 0.1, 0.000001)\n",
    "\n",
    "#------------------------------------\n",
    "# main loop\n",
    "running = True\n",
    "mouse_pressed = False\n",
    "omx, omy = 0, 0\n",
    "\n",
    "flag_draw_fog = True\n",
    "flag_draw_vec = True\n",
    "flag_update = True\n",
    "while running:\n",
    "    g.rect(screen, [0, 0, 0], pygame.Rect(0, 0, 640, 640))\n",
    "    # event handling, gets all event from the event queue\n",
    "    mx, my = pygame.mouse.get_pos()\n",
    "    for event in pygame.event.get():\n",
    "        # only do something if the event is of type QUIT\n",
    "        if event.type == pygame.QUIT:\n",
    "            # change the value to False, to exit the main loop\n",
    "            running = False\n",
    "\n",
    "        if event.type == pygame.MOUSEBUTTONDOWN:\n",
    "            mouse_pressed = True\n",
    "            omx, omy = mx, my\n",
    "        if event.type == pygame.MOUSEBUTTONUP:\n",
    "            mouse_pressed = False\n",
    "            \n",
    "        if event.type == pygame.KEYDOWN:\n",
    "            if event.key == pygame.K_a:\n",
    "                fluid = Fluid(0.25, 0.00025, 0.00025)\n",
    "        if event.type == pygame.KEYDOWN:\n",
    "            if event.key == pygame.K_f:\n",
    "                flag_draw_fog = False if flag_draw_fog else True\n",
    "        if event.type == pygame.KEYDOWN:\n",
    "            if event.key == pygame.K_v:\n",
    "                flag_draw_vec = False if flag_draw_vec else True\n",
    "        if event.type == pygame.KEYDOWN:\n",
    "            if event.key == pygame.K_SPACE:\n",
    "                flag_update = False if flag_update else True\n",
    "    \n",
    "    if flag_update:\n",
    "        fluid.update()\n",
    "    if flag_draw_fog:\n",
    "        fluid.draw(screen)\n",
    "    if flag_draw_vec:\n",
    "        fluid.drawVel(screen)\n",
    "    fluid.addDensity(int(N/2), int(N/2), 2048)\n",
    "    #fluid.fadeDensity()\n",
    "    if mouse_pressed:\n",
    "        # fluid.addDensity(mx // fluid.squire_dim, my // fluid.squire_dim, 100)\n",
    "        fluid.addVelocity(mx // fluid.squire_dim, my // fluid.squire_dim, (mx - omx)/fluid.squire_dim,  (my - omy)/fluid.squire_dim)\n",
    "        # fluid.addVelocity(omx // fluid.squire_dim, omy // fluid.squire_dim, (mx - omx)/fluid.squire_dim,  (my - omy)/fluid.squire_dim)\n",
    "        # fluid.addVelocity(int(N/2), int(N/2), mx - omx,  my - omy)\n",
    "    pygame.display.flip()\n",
    "    # Limit the frame rate\n",
    "    clock.tick(30)\n",
    "\n",
    "pygame.quit()"
   ]
  }
 ],
 "metadata": {
  "kernelspec": {
   "display_name": "Python 3 (ipykernel)",
   "language": "python",
   "name": "python3"
  },
  "language_info": {
   "codemirror_mode": {
    "name": "ipython",
    "version": 3
   },
   "file_extension": ".py",
   "mimetype": "text/x-python",
   "name": "python",
   "nbconvert_exporter": "python",
   "pygments_lexer": "ipython3",
   "version": "3.8.15"
  }
 },
 "nbformat": 4,
 "nbformat_minor": 5
}
